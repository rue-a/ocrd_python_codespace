{
 "cells": [
  {
   "attachments": {},
   "cell_type": "markdown",
   "metadata": {},
   "source": [
    "## Tesseract command-line\n",
    "\n",
    "1. Current version [here pre-installed via Ubuntu PPA](https://github.com/rue-a/ocrd_python_codespace/blob/master/.devcontainer/setup.sh) according to [installation instructions for ocrd_tesserocr](https://github.com/OCR-D/ocrd_tesserocr#from-pypi-and-ppa)."
   ]
  },
  {
   "cell_type": "code",
   "execution_count": 2,
   "metadata": {},
   "outputs": [
    {
     "name": "stdout",
     "output_type": "stream",
     "text": [
      "tesseract 4.1.1\n",
      " leptonica-1.79.0\n",
      "  libgif 5.1.9 : libjpeg 6b (libjpeg-turbo 2.0.6) : libpng 1.6.37 : libtiff 4.2.0 : zlib 1.2.11 : libwebp 0.6.1 : libopenjp2 2.4.0\n",
      " Found AVX512BW\n",
      " Found AVX512F\n",
      " Found AVX2\n",
      " Found AVX\n",
      " Found FMA\n",
      " Found SSE\n",
      " Found libarchive 3.4.3 zlib/1.2.11 liblzma/5.2.5 bz2lib/1.0.8 liblz4/1.9.3 libzstd/1.4.8\n",
      "Version 0.17.0 (tesseract 4.1.1), ocrd/core 2.52.0\n"
     ]
    }
   ],
   "source": [
    "!tesseract --version\n",
    "!ocrd-tesserocr-recognize --version"
   ]
  },
  {
   "attachments": {},
   "cell_type": "markdown",
   "metadata": {},
   "source": [
    "2. Get our [previous image example](https://upload.wikimedia.org/wikipedia/commons/0/0e/Weisse_Scherzhafte_Lieder_003.jpg)"
   ]
  },
  {
   "cell_type": "code",
   "execution_count": 12,
   "metadata": {},
   "outputs": [
    {
     "name": "stdout",
     "output_type": "stream",
     "text": [
      "--2023-06-29 16:19:40--  https://upload.wikimedia.org/wikipedia/commons/0/0e/Weisse_Scherzhafte_Lieder_003.jpg\n",
      "Resolving upload.wikimedia.org (upload.wikimedia.org)... 91.198.174.208, 2620:0:862:ed1a::2:b\n",
      "Connecting to upload.wikimedia.org (upload.wikimedia.org)|91.198.174.208|:443... connected.\n",
      "HTTP request sent, awaiting response... 200 OK\n",
      "Length: 620995 (606K) [image/jpeg]\n",
      "Saving to: ‘input.jpg’\n",
      "\n",
      "input.jpg           100%[===================>] 606.44K  --.-KB/s    in 0.02s   \n",
      "\n",
      "2023-06-29 16:19:40 (30.3 MB/s) - ‘input.jpg’ saved [620995/620995]\n",
      "\n"
     ]
    }
   ],
   "source": [
    "!wget -O input.jpg https://upload.wikimedia.org/wikipedia/commons/0/0e/Weisse_Scherzhafte_Lieder_003.jpg"
   ]
  },
  {
   "attachments": {},
   "cell_type": "markdown",
   "metadata": {},
   "source": [
    "![](input.jpg)"
   ]
  },
  {
   "attachments": {},
   "cell_type": "markdown",
   "metadata": {},
   "source": [
    "3. Run Tesseract with default model (for English, synthetically trained):"
   ]
  },
  {
   "cell_type": "code",
   "execution_count": 13,
   "metadata": {},
   "outputs": [
    {
     "name": "stdout",
     "output_type": "stream",
     "text": [
      "Tesseract Open Source OCR Engine v4.1.1 with Leptonica\n",
      "Warning: Invalid resolution 0 dpi. Using 70 instead.\n",
      "Estimating resolution as 809\n",
      "Detected 40 diacritics\n",
      " \n",
      "\n",
      "Gy tweis in Der That nicht, twas\n",
      "\n",
      "id) Der Welt, indem ich ihr die.\n",
      "\n",
      "Lieder iibergebe, fur ein Compli-\n",
      "ment maden foll, Gie wird unju-\n",
      "frieden fey, Daf man fie mit folchert\n",
      "Tandeleyen tberhauft, und ich werde\n",
      "nichtd daranf zu antworten twiffen,\n",
      "und 8 Beit genug Bbereuen. Aber\n",
      "wads ift der Autorftols nicht fir eine\n",
      "wunderfiche Sache? Man glanbe att:\n",
      "fangs Klos zu feinem Zeitvcrtreibe gu\n",
      "foielen, man gefallt fi d, und wie bald\n",
      "bildet man fich nid)t ein, man milffe\n",
      "auch der swigigen Welt gefallen?\n",
      "Man lake drucken, man swird geta-\n",
      "delt: man nimme ¢8 iibel, (chrent tiber\n",
      "den Verfall des Gefchmacés, und 8\n",
      "felt nicht viel, daB man feine Lefer nicht\n",
      "fieber gar fir THhoren Halt. Und wer\n",
      "thar dev groste Thor id) will die\n",
      "\n",
      "MY 2 Frage\n",
      "\f"
     ]
    }
   ],
   "source": [
    "!tesseract input.jpg output_eng -l eng\n",
    "!cat output_eng.txt"
   ]
  },
  {
   "attachments": {},
   "cell_type": "markdown",
   "metadata": {},
   "source": [
    "4. Try another, more fitting pretrained model:"
   ]
  },
  {
   "cell_type": "code",
   "execution_count": 14,
   "metadata": {},
   "outputs": [
    {
     "name": "stdout",
     "output_type": "stream",
     "text": [
      "Tesseract Open Source OCR Engine v4.1.1 with Leptonica\n",
      "Warning: Invalid resolution 0 dpi. Using 70 instead.\n",
      "Estimating resolution as 809\n",
      "Detected 40 diacritics\n",
      " \n",
      "\n",
      "GW weis in der That ñicht, was\n",
      "\n",
      "ih der Welt, indem ich ihr die.\n",
      "\n",
      "Lieder übergebe, für ein Compli-\n",
      "ment machen ſoll, Sie wird unzu-\n",
      "frieden ſeyn, daß man ſie mit ſolchen\n",
      "Tändeleyen überhäuft, und ich werde\n",
      "nichts darauf zu antworten wiſſen,\n",
      "und es Zeit genug bereuen. Aber\n",
      "was iſ der Autorſtolz nicht für eine\n",
      "wunderliche Sache? Man glaubt an-\n",
      "fangs blos zu ſeinem Zeitvertreibe zu\n",
      "ſpielen, man gefällt <, und wie bald\n",
      "bildet man ſich nicht ein, man müſſe\n",
      "auch der wißigen Welt gefallen?\n",
      "Man läßt drucken, man wird geta-\n",
      "delt: man nimmt es übel, ſchreyt über\n",
      "den Verfall des Geſchmacks, und es\n",
      "fehlt nicht viel, daß man ſeine Lefer nicht\n",
      "lieber gar für Thoren hält. Und wer\n",
      "war der größte Thor? ich will die\n",
      "\n",
      "A 2 Frage\n",
      "\f"
     ]
    }
   ],
   "source": [
    "!tesseract input.jpg output_Fraktur -l Fraktur\n",
    "!cat output_Fraktur.txt"
   ]
  },
  {
   "attachments": {},
   "cell_type": "markdown",
   "metadata": {},
   "source": [
    "5. download model [trained by OCR community](https://github.com/tesseract-ocr/tesstrain/wiki) on [GT from scanned Fraktur prints](http://doi.org/10.5281/zenodo.1344132):"
   ]
  },
  {
   "cell_type": "code",
   "execution_count": 1,
   "metadata": {},
   "outputs": [
    {
     "name": "stdout",
     "output_type": "stream",
     "text": [
      "--2023-06-29 17:13:13--  https://ub-backup.bib.uni-mannheim.de/~stweil/tesstrain/frak2021/tessdata_best/frak2021-0.905.traineddata\n",
      "Resolving ub-backup.bib.uni-mannheim.de (ub-backup.bib.uni-mannheim.de)... 134.155.36.11, 2001:7c0:2900:24::869b:240b\n",
      "Connecting to ub-backup.bib.uni-mannheim.de (ub-backup.bib.uni-mannheim.de)|134.155.36.11|:443... connected.\n",
      "HTTP request sent, awaiting response... 200 OK\n",
      "Length: 3421140 (3.3M)\n",
      "Saving to: ‘/usr/share/tesseract-ocr/4.00/tessdata/frak2021.traineddata’\n",
      "\n",
      "/usr/share/tesserac 100%[===================>]   3.26M  --.-KB/s    in 0.1s    \n",
      "\n",
      "2023-06-29 17:13:13 (23.1 MB/s) - ‘/usr/share/tesseract-ocr/4.00/tessdata/frak2021.traineddata’ saved [3421140/3421140]\n",
      "\n"
     ]
    }
   ],
   "source": [
    "!sudo wget -O /usr/share/tesseract-ocr/4.00/tessdata/frak2021.traineddata https://ub-backup.bib.uni-mannheim.de/~stweil/tesstrain/frak2021/tessdata_best/frak2021-0.905.traineddata"
   ]
  },
  {
   "attachments": {},
   "cell_type": "markdown",
   "metadata": {},
   "source": [
    "6. Try `frak2021` model, combined with other models (as fallback):"
   ]
  },
  {
   "cell_type": "code",
   "execution_count": 3,
   "metadata": {},
   "outputs": [
    {
     "name": "stdout",
     "output_type": "stream",
     "text": [
      "Failed to load any lstm-specific dictionaries for lang frak2021!!\n",
      "Error opening data file /usr/share/tesseract-ocr/4.00/tessdata/deu.traineddata\n",
      "Please make sure the TESSDATA_PREFIX environment variable is set to your \"tessdata\" directory.\n",
      "Failed loading language 'deu'\n",
      "Tesseract Open Source OCR Engine v4.1.1 with Leptonica\n",
      "Warning: Invalid resolution 0 dpi. Using 70 instead.\n",
      "Estimating resolution as 809\n",
      "Detected 40 diacritics\n",
      " \n",
      "\n",
      "GW weis in der That ñicht, was\n",
      "\n",
      "ih der Welt, indem ich ihr dieſe\n",
      "\n",
      "Lieder übergebe, für ein Compli⸗\n",
      "ment machen ſoll, Sie wird unzu-\n",
      "frieden ſeyn, daß man ſie mit ſolchen\n",
      "Taͤndeleyen überhäuft, und ich werde\n",
      "nichts darauf zu antworten wiſſen,\n",
      "und es Zeit genug bereuen. Aber\n",
      "was iſt der Autorſtolz nicht für eine\n",
      "wunderliche Sache? Man glaubt an⸗\n",
      "fangs blos zu ſeinem Zeitvertreibe zu\n",
      "ſpielen, man gefaͤllt ſi <, und wie bald\n",
      "bildet man ſich nicht ein, man müſſe\n",
      "auch der wißigen Welt gefallen?\n",
      "Man läßt drucken, man wird geta-\n",
      "delt: man nimmt es übel, ſchreyt uͤber\n",
      "den Verfall des Geſchmacks, und es\n",
      "fehlt nicht viel, daß man ſeine Lefer nicht\n",
      "lieber gar für Thoren hält. Und wer\n",
      "war der größte Thor? ich will die\n",
      "\n",
      "A 2 Frage\n",
      "\f"
     ]
    }
   ],
   "source": [
    "!tesseract input.jpg output_frak2021 -l frak2021+Fraktur+deu\n",
    "!cat output_frak2021.txt"
   ]
  },
  {
   "cell_type": "code",
   "execution_count": null,
   "metadata": {},
   "outputs": [],
   "source": [
    "import ocrd\n",
    "import ocrd_tessercor"
   ]
  }
 ],
 "metadata": {
  "kernelspec": {
   "display_name": "Python 3",
   "language": "python",
   "name": "python3"
  },
  "language_info": {
   "codemirror_mode": {
    "name": "ipython",
    "version": 3
   },
   "file_extension": ".py",
   "mimetype": "text/x-python",
   "name": "python",
   "nbconvert_exporter": "python",
   "pygments_lexer": "ipython3",
   "version": "3.8.17"
  },
  "orig_nbformat": 4
 },
 "nbformat": 4,
 "nbformat_minor": 2
}
